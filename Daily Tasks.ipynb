{
  "nbformat": 4,
  "nbformat_minor": 0,
  "metadata": {
    "colab": {
      "name": "T1_GRIP.ipnyb",
      "provenance": []
    },
    "kernelspec": {
      "name": "python3",
      "display_name": "Python 3.8.2 64-bit",
      "metadata": {
        "interpreter": {
          "hash": "31f2aee4e71d21fbe5cf8b01ff0e069b9275f58929596ceb00d14d90e3e16cd6"
        }
      }
    }
  },
  "cells": [
    {
      "cell_type": "markdown",
      "metadata": {
        "id": "DicvIUtJPjbC"
      },
      "source": [
        "# **BestEnlist Python Internship daily tasks**"
      ]
    },
    {
      "cell_type": "markdown",
      "metadata": {
        "id": "h_N2SWtOJfGy"
      },
      "source": [
        "### **Author : VISHAL RAMESH PATIL**\n",
        "\n",
        "Daily tasks Notebook. "
      ]
    },
    {
      "cell_type": "markdown",
      "metadata": {
        "id": "fV3OmNKKabQt"
      },
      "source": [
        "### **Day 1 - 23 Nov 2020**"
      ]
    },
    {
      "cell_type": "code",
      "metadata": {
        "id": "kyONNvJMT7vl"
      },
      "source": [
        "Sentence = \"30 Days and 30 Hour Challenge\"\n",
        "print(Sentence)\n",
        "print(Sentence[1:])"
      ],
      "execution_count": 16,
      "outputs": [
        {
          "output_type": "stream",
          "name": "stdout",
          "text": [
            "30 Days and 30 Hour Challenge\n0 Days and 30 Hour Challenge\n"
          ]
        }
      ]
    },
    {
      "source": [
        "### **Day 2 - 24 Nov 2020**"
      ],
      "cell_type": "markdown",
      "metadata": {}
    },
    {
      "cell_type": "code",
      "execution_count": 17,
      "metadata": {},
      "outputs": [
        {
          "output_type": "stream",
          "name": "stdout",
          "text": [
            "1.0 500 70\n"
          ]
        }
      ],
      "source": [
        "# Task 1\n",
        "a = b = c = 10\n",
        "a /= 10\n",
        "b *= 50\n",
        "c += 60\n",
        "print(a, b, c)"
      ]
    },
    {
      "cell_type": "code",
      "execution_count": 18,
      "metadata": {},
      "outputs": [
        {
          "output_type": "stream",
          "name": "stdout",
          "text": [
            "HoGse\n"
          ]
        }
      ],
      "source": [
        "# Task 2\n",
        "variable = \"House\"\n",
        "variable = variable.replace(\"u\", \"G\")\n",
        "print(variable)"
      ]
    },
    {
      "cell_type": "code",
      "execution_count": 20,
      "metadata": {},
      "outputs": [
        {
          "output_type": "stream",
          "name": "stdout",
          "text": [
            "10.0 12\n"
          ]
        }
      ],
      "source": [
        "# Task 3\n",
        "a, b = 10, 12.6\n",
        "a = float(a)\n",
        "b = int(b)\n",
        "print(a, b)"
      ]
    },
    {
      "source": [
        "### **Day 3 - 25 Nov 2020**"
      ],
      "cell_type": "markdown",
      "metadata": {}
    },
    {
      "cell_type": "code",
      "execution_count": 13,
      "metadata": {},
      "outputs": [
        {
          "output_type": "stream",
          "name": "stdout",
          "text": [
            "{'Mumbai': 'Maharashtra', 'Kolkata': 'Bengal', 'Surat': 'Gujarat', 'Pune': 'Maharashtra', 'Indore': 'Madhya Pradesh'}\n"
          ]
        }
      ],
      "source": [
        "# Task 1\n",
        "Location1 = {\"Mumbai\" : \"Maharashtra\",\n",
        "            \"Kolkata\" : \"Bengal\",\n",
        "            \"Surat\" : \"Gujarat\"}\n",
        "Location2 = {\"Pune\" : \"Maharashtra\",\n",
        "            \"Indore\" : \"Madhya Pradesh\"}\n",
        "Location1.update(Location2)\n",
        "print(Location1)"
      ]
    },
    {
      "cell_type": "code",
      "execution_count": 14,
      "metadata": {},
      "outputs": [
        {
          "output_type": "stream",
          "name": "stdout",
          "text": [
            "{'Mumbai': 'Maharashtra', 'Kolkata': 'Bengal', 'Pune': 'Maharashtra', 'Indore': 'Madhya Pradesh'}\n"
          ]
        }
      ],
      "source": [
        "# Task 2\n",
        "del Location1['Surat'] \n",
        "print(Location1)"
      ]
    },
    {
      "cell_type": "code",
      "execution_count": 15,
      "metadata": {},
      "outputs": [
        {
          "output_type": "stream",
          "name": "stdout",
          "text": [
            "{'Nagpur': 'Maharashtra', 'Chennai': 'TN', 'Bangalore': 'Karnataka'}\n"
          ]
        }
      ],
      "source": [
        "# Task 3\n",
        "City = [\"Nagpur\", \"Chennai\", \"Bangalore\"] \n",
        "State = [\"Maharashtra\", \"TN\", \"Karnataka\"]\n",
        "Location3 = dict(zip(City, State))\n",
        "print(Location3)"
      ]
    },
    {
      "cell_type": "code",
      "execution_count": 17,
      "metadata": {},
      "outputs": [
        {
          "output_type": "stream",
          "name": "stdout",
          "text": [
            "5\n"
          ]
        }
      ],
      "source": [
        "# Task 4\n",
        "names = {\"Tejas\", \"Rutik\", \"Prachlit\", \"Date\", \"Mayur\"}\n",
        "print(len(names))"
      ]
    },
    {
      "cell_type": "code",
      "execution_count": 18,
      "metadata": {},
      "outputs": [
        {
          "output_type": "stream",
          "name": "stdout",
          "text": [
            "{'Rutik', 'Date'}\n"
          ]
        }
      ],
      "source": [
        "# Task 5\n",
        "moreNames = {\"Vishal\", \"Rutik\", \"Gaurav\", \"Date\", \"Rushi\"}\n",
        "intersectedNames = names.intersection(moreNames)\n",
        "print(intersectedNames)"
      ]
    },
    {
      "source": [
        "### **Day 4 - 26 Nov 2020**"
      ],
      "cell_type": "markdown",
      "metadata": {}
    },
    {
      "cell_type": "code",
      "execution_count": 17,
      "metadata": {},
      "outputs": [
        {
          "output_type": "stream",
          "name": "stdout",
          "text": [
            "[0, 1, 2, 3, 4, 5, 6, 7, 8, 9]\n"
          ]
        }
      ],
      "source": [
        "n = int(input(\"The value of n is:\"))\n",
        "nums = list(range(0, n))\n",
        "print(nums)"
      ]
    },
    {
      "cell_type": "code",
      "execution_count": 18,
      "metadata": {},
      "outputs": [
        {
          "output_type": "stream",
          "name": "stdout",
          "text": [
            "The appended list is  [0, 1, 2, 3, 4, 5, 6, 7, 8, 9, 10]\nThe list is after deleting is  [0, 1, 2, 4, 5, 6, 7, 8, 9, 10]\nThe max num is  10\nThe min num is  0\n"
          ]
        }
      ],
      "source": [
        "# Task 1\n",
        "nums.append(10)\n",
        "print(\"The appended list is \", nums)\n",
        "del nums[3]\n",
        "print(\"The list is after deleting is \", nums)\n",
        "max_num = max(nums)\n",
        "min_num = min(nums)\n",
        "print(\"The max num is \", max_num)\n",
        "print(\"The min num is \", min_num)"
      ]
    },
    {
      "cell_type": "code",
      "execution_count": 19,
      "metadata": {},
      "outputs": [
        {
          "output_type": "stream",
          "name": "stdout",
          "text": [
            "(9, 6, 5, 4, 1)\n"
          ]
        }
      ],
      "source": [
        "# Task 2\n",
        "nums_tuple = (1, 4, 5, 6, 9)\n",
        "print(nums_tuple[::-1])"
      ]
    },
    {
      "cell_type": "code",
      "execution_count": 21,
      "metadata": {},
      "outputs": [
        {
          "output_type": "execute_result",
          "data": {
            "text/plain": [
              "list"
            ]
          },
          "metadata": {},
          "execution_count": 21
        }
      ],
      "source": [
        "# Task 3\n",
        "nums_tuple2 = (1, 4, 5, 7, 9)\n",
        "nums_tuple2 = list(nums_tuple2)\n",
        "type(nums_tuple2)"
      ]
    },
    {
      "source": [
        "### **Day 5 - 27 Nov 2020**"
      ],
      "cell_type": "markdown",
      "metadata": {}
    },
    {
      "cell_type": "code",
      "execution_count": 1,
      "metadata": {},
      "outputs": [
        {
          "output_type": "stream",
          "name": "stdout",
          "text": [
            "Addition of two numbers is  5\nSubtraction of two numbers is  -1\nDivision of two numbers is  0.6666666666666666\nMultiplication of two numbers is  6\n"
          ]
        }
      ],
      "source": [
        "# Task 1\n",
        "a = int(input(\"Enter the first no.\"))           # a = 2\n",
        "b = int(input(\"Enter the second no.\"))          # b = 3\n",
        "def calculations(x, y):\n",
        "    print(\"Addition of two numbers is \", x+y)\n",
        "    print(\"Subtraction of two numbers is \", x-y)\n",
        "    print(\"Division of two numbers is \", x/y)\n",
        "    print(\"Multiplication of two numbers is \", x*y)\n",
        "\n",
        "calculations(a, b)"
      ]
    },
    {
      "cell_type": "code",
      "execution_count": 2,
      "metadata": {},
      "outputs": [
        {
          "output_type": "stream",
          "name": "stdout",
          "text": [
            "The name of patient is Vishal\nThe body temperature of the patient is  102\nThe name of patient is Tejas\nThe body temperature of the patient is  98\n"
          ]
        }
      ],
      "source": [
        "# Task 2\n",
        "def covid(name, temperature=\"98\"):\n",
        "   print(\"The name of patient is \" + name)\n",
        "   print(\"The body temperature of the patient is \", temperature)\n",
        "\n",
        "covid(\"Vishal\", 102)\n",
        "covid(\"Tejas\")"
      ]
    }
  ]
}