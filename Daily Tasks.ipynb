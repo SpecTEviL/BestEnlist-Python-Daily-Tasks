{
  "nbformat": 4,
  "nbformat_minor": 0,
  "metadata": {
    "colab": {
      "name": "T1_GRIP.ipnyb",
      "provenance": []
    },
    "kernelspec": {
      "name": "python3",
      "display_name": "Python 3.8.2 64-bit",
      "metadata": {
        "interpreter": {
          "hash": "31f2aee4e71d21fbe5cf8b01ff0e069b9275f58929596ceb00d14d90e3e16cd6"
        }
      }
    }
  },
  "cells": [
    {
      "cell_type": "markdown",
      "metadata": {
        "id": "DicvIUtJPjbC"
      },
      "source": [
        "# **BestEnlist Python Internship daily tasks**"
      ]
    },
    {
      "cell_type": "markdown",
      "metadata": {
        "id": "h_N2SWtOJfGy"
      },
      "source": [
        "### **Author : VISHAL RAMESH PATIL**\n",
        "\n",
        "Daily tasks Notebook. "
      ]
    },
    {
      "cell_type": "markdown",
      "metadata": {
        "id": "fV3OmNKKabQt"
      },
      "source": [
        "### **Day 1 - 23 Nov 2020**"
      ]
    },
    {
      "cell_type": "code",
      "metadata": {
        "id": "kyONNvJMT7vl"
      },
      "source": [
        "Sentence = \"30 Days and 30 Hour Challenge\"\n",
        "print(Sentence)\n",
        "print(Sentence[1:])"
      ],
      "execution_count": 16,
      "outputs": [
        {
          "output_type": "stream",
          "name": "stdout",
          "text": [
            "30 Days and 30 Hour Challenge\n0 Days and 30 Hour Challenge\n"
          ]
        }
      ]
    },
    {
      "source": [
        "### **Day 2 - 24 Nov 2020**"
      ],
      "cell_type": "markdown",
      "metadata": {}
    },
    {
      "cell_type": "code",
      "execution_count": 17,
      "metadata": {},
      "outputs": [
        {
          "output_type": "stream",
          "name": "stdout",
          "text": [
            "1.0 500 70\n"
          ]
        }
      ],
      "source": [
        "# Task 1\n",
        "a = b = c = 10\n",
        "a /= 10\n",
        "b *= 50\n",
        "c += 60\n",
        "print(a, b, c)"
      ]
    },
    {
      "cell_type": "code",
      "execution_count": 18,
      "metadata": {},
      "outputs": [
        {
          "output_type": "stream",
          "name": "stdout",
          "text": [
            "HoGse\n"
          ]
        }
      ],
      "source": [
        "# Task 2\n",
        "variable = \"House\"\n",
        "variable = variable.replace(\"u\", \"G\")\n",
        "print(variable)"
      ]
    },
    {
      "cell_type": "code",
      "execution_count": 20,
      "metadata": {},
      "outputs": [
        {
          "output_type": "stream",
          "name": "stdout",
          "text": [
            "10.0 12\n"
          ]
        }
      ],
      "source": [
        "# Task 3\n",
        "a, b = 10, 12.6\n",
        "a = float(a)\n",
        "b = int(b)\n",
        "print(a, b)"
      ]
    }
  ]
}