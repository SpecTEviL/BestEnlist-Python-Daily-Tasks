{
  "nbformat": 4,
  "nbformat_minor": 0,
  "metadata": {
    "colab": {
      "name": "T1_GRIP.ipnyb",
      "provenance": []
    },
    "kernelspec": {
      "name": "python3",
      "display_name": "Python 3.8.2 64-bit",
      "metadata": {
        "interpreter": {
          "hash": "31f2aee4e71d21fbe5cf8b01ff0e069b9275f58929596ceb00d14d90e3e16cd6"
        }
      }
    }
  },
  "cells": [
    {
      "cell_type": "markdown",
      "metadata": {
        "id": "DicvIUtJPjbC"
      },
      "source": [
        "# **BestEnlist Python Internship daily tasks**"
      ]
    },
    {
      "cell_type": "markdown",
      "metadata": {
        "id": "h_N2SWtOJfGy"
      },
      "source": [
        "### **Author : VISHAL RAMESH PATIL**\n",
        "\n",
        "Daily tasks Notebook. "
      ]
    },
    {
      "cell_type": "markdown",
      "metadata": {
        "id": "fV3OmNKKabQt"
      },
      "source": [
        "### **Day 1 - 23 Nov 2020**"
      ]
    },
    {
      "cell_type": "code",
      "metadata": {
        "id": "kyONNvJMT7vl"
      },
      "source": [
        "Sentence = \"30 Days and 30 Hour Challenge\"\n",
        "print(Sentence)\n",
        "print(Sentence[1:])"
      ],
      "execution_count": 2,
      "outputs": [
        {
          "output_type": "stream",
          "name": "stdout",
          "text": [
            "30 Days and 30 Hour Challenge\n0 Days and 30 Hour Challenge\n"
          ]
        }
      ]
    }
  ]
}